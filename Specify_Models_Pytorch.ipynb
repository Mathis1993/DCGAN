{
  "nbformat": 4,
  "nbformat_minor": 0,
  "metadata": {
    "colab": {
      "name": "Specify_Models_Pytorch.ipynb",
      "provenance": [],
      "collapsed_sections": [],
      "include_colab_link": true
    },
    "kernelspec": {
      "name": "python3",
      "display_name": "Python 3"
    }
  },
  "cells": [
    {
      "cell_type": "markdown",
      "metadata": {
        "id": "view-in-github",
        "colab_type": "text"
      },
      "source": [
        "<a href=\"https://colab.research.google.com/github/Mathis1993/DCGAN/blob/master/Specify_Models_Pytorch.ipynb\" target=\"_parent\"><img src=\"https://colab.research.google.com/assets/colab-badge.svg\" alt=\"Open In Colab\"/></a>"
      ]
    },
    {
      "cell_type": "markdown",
      "metadata": {
        "id": "BO4RVq7OV-CX",
        "colab_type": "text"
      },
      "source": [
        "## Examples for defining ANN in Pytorch"
      ]
    },
    {
      "cell_type": "code",
      "metadata": {
        "id": "UlpyGF9HT0Mv",
        "colab_type": "code",
        "colab": {}
      },
      "source": [
        "import torch\n",
        "import torch.nn as nn\n",
        "import torch.nn.functional as F"
      ],
      "execution_count": 0,
      "outputs": []
    },
    {
      "cell_type": "markdown",
      "metadata": {
        "id": "rcKjKyofUG_8",
        "colab_type": "text"
      },
      "source": [
        "### 1. The fully flexible approach\n",
        "\n",
        "Define all layers with weights as single attributes. In the forward method, work through the layers, adding activation functions."
      ]
    },
    {
      "cell_type": "code",
      "metadata": {
        "id": "cRKAxZlSdJMv",
        "colab_type": "code",
        "colab": {}
      },
      "source": [
        "class Discriminator(nn.Module):\n",
        "\n",
        "  def __init__(self):\n",
        "    super(Discriminator, self).__init__()\n",
        "    \n",
        "    self.conv1 = nn.Conv2d(in_channels=3, out_channels=8, kernel_size=3, stride=1, padding=2, bias=True)\n",
        "    self.batnorm1 = nn.BatchNorm2d(num_features=8)\n",
        "    self.conv2 = nn.Conv2d(in_channels=8, out_channels=16, kernel_size=4, stride=2, padding=1, bias=True)\n",
        "    self.batnorm2 = nn.BatchNorm2d(num_features=16)\n",
        "\n",
        "    def forward(self, x):\n",
        "      x = self.conv1(x)\n",
        "      x = self.batnorm1(x)\n",
        "      x = F.leaky_relu(x, slope=0.2)\n",
        "      x = self.conv2(x)\n",
        "      x = self.batnorm2(x)\n",
        "      x = F.leaky_relu(x, slope=0.2)\n",
        "      return x\n",
        "\n"
      ],
      "execution_count": 0,
      "outputs": []
    },
    {
      "cell_type": "markdown",
      "metadata": {
        "id": "INzrMNgCT8jt",
        "colab_type": "text"
      },
      "source": [
        "### 2. The fully comfortable approach\n",
        "\n",
        "Just define as one attribute a Sequential Net stacking all layers. In the forward method, just push the input through this Net."
      ]
    },
    {
      "cell_type": "code",
      "metadata": {
        "id": "Y1R5WtGEdRN5",
        "colab_type": "code",
        "colab": {}
      },
      "source": [
        "class Discriminator(nn.Module):\n",
        "    \n",
        "    def __init__(self):\n",
        "        super(Discriminator, self).__init__()\n",
        "        \n",
        "        self.net = nn.Sequential(\n",
        "            nn.Conv2d(in_channels=3, out_channels=8, kernel_size=3, stride=1, padding=2, bias=True),\n",
        "            nn.BatchNorm2d(8),\n",
        "            nn.LeakyReLU(0.2),\n",
        "\n",
        "            nn.Conv2d(in_channels=8, out_channels=16, kernel_size=4, stride=2, padding=1, bias=True),\n",
        "            nn.BatchNorm2d(16),\n",
        "            nn.LeakyReLU(0.2),\n",
        "        )\n",
        "\n",
        "    def forward(self, x):\n",
        "        return self.net(x)"
      ],
      "execution_count": 0,
      "outputs": []
    },
    {
      "cell_type": "markdown",
      "metadata": {
        "id": "9Iu5EL9fVc7e",
        "colab_type": "text"
      },
      "source": [
        "###3. The in-between approach\n",
        "\n",
        "Less attributes to handle, but still some flexibility: Organize your Net in building blocks with each block consisting of a small Sequential Net."
      ]
    },
    {
      "cell_type": "code",
      "metadata": {
        "id": "sqTMzti1dTwW",
        "colab_type": "code",
        "colab": {}
      },
      "source": [
        "class Discriminator(nn.Module):\n",
        "\n",
        "  def __init__(self):\n",
        "    super(Discriminator, self).__init__()\n",
        "    \n",
        "    self.conv_block1 = nn.Sequential(\n",
        "        nn.Conv2d(in_channels=3, out_channels=8, kernel_size=3, stride=1, padding=2, bias=True),\n",
        "        nn.BatchNorm2d(num_features=8),\n",
        "        nn.LeakyReLU(negative_slope=0.2)\n",
        "    )\n",
        "\n",
        "    self.conv_block2 = nn.Sequential(\n",
        "        nn.Conv2d(in_channels=8, out_channels=16, kernel_size=4, stride=2, padding=1, bias=True),\n",
        "        nn.BatchNorm2d(num_features=16),\n",
        "        nn.LeakyReLU(negative_slope=0.2)\n",
        "    )\n",
        "\n",
        "  def forward(self, x):\n",
        "    x = self.conv_block1(x)\n",
        "    x = self.conv_block2(x)\n",
        "    return x"
      ],
      "execution_count": 0,
      "outputs": []
    }
  ]
}